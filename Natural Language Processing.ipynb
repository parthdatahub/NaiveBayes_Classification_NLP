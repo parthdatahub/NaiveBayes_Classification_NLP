{
 "cells": [
  {
   "cell_type": "markdown",
   "id": "2be9246f",
   "metadata": {},
   "source": [
    "# Natural Language Processing"
   ]
  },
  {
   "cell_type": "code",
   "execution_count": null,
   "id": "77fce630",
   "metadata": {},
   "outputs": [],
   "source": [
    "Building intereaction between computer and human language."
   ]
  },
  {
   "cell_type": "markdown",
   "id": "20e4b644",
   "metadata": {},
   "source": [
    "# Applications of NLP"
   ]
  },
  {
   "cell_type": "code",
   "execution_count": null,
   "id": "ab174fa5",
   "metadata": {},
   "outputs": [],
   "source": [
    "1. Chatbots --> itreacts with humans in natural language\n",
    "2. Voice Assistant\n",
    "3. Sentiment Analysis\n",
    "4. Translation\n",
    "5. Topic Identification\n",
    "6. Name Entity Recognition --> Resume"
   ]
  },
  {
   "cell_type": "markdown",
   "id": "e85c94a0",
   "metadata": {},
   "source": [
    "# Libraries"
   ]
  },
  {
   "cell_type": "code",
   "execution_count": null,
   "id": "a5675947",
   "metadata": {},
   "outputs": [],
   "source": [
    "1. NLTK --> Natural Language Toolkit\n",
    "2. Spacy\n",
    "3. Gensim\n",
    "4. polyglot"
   ]
  },
  {
   "cell_type": "markdown",
   "id": "98a37ff3",
   "metadata": {},
   "source": [
    "# Text Preprocessing"
   ]
  },
  {
   "cell_type": "code",
   "execution_count": null,
   "id": "69e7693e",
   "metadata": {},
   "outputs": [],
   "source": [
    "1. Removing the punctuations\n",
    "2. Normalization/Lowercase\n",
    "3. Tokenization --> Splitting of text into single word\n",
    "3. Stopwords\n",
    "4. Contraction Mapping\n",
    "5. Steming and Lemmitization\n",
    "6. Accented Characters\n",
    "7. Autocorrect / Textblob\n",
    "\n",
    "Stemming --> Not get meaningful text in steming\n",
    "Lemmitization --> meaningful and dictioary word\n",
    "\n",
    "play  # root Word\n",
    "played\n",
    "playing\n",
    "\n",
    "caring\n",
    "care\n",
    "\n",
    "doesn't  don't \n",
    "does not  do not\n",
    "\n",
    "Hello , HELLo"
   ]
  },
  {
   "cell_type": "code",
   "execution_count": 6,
   "id": "dfab0668",
   "metadata": {},
   "outputs": [
    {
     "data": {
      "text/plain": [
       "['Hello', 'Good', 'Morning']"
      ]
     },
     "execution_count": 6,
     "metadata": {},
     "output_type": "execute_result"
    }
   ],
   "source": [
    "s = \"Hello Good Morning\"\n",
    "s.split()"
   ]
  },
  {
   "cell_type": "markdown",
   "id": "5d6c6cbb",
   "metadata": {},
   "source": [
    "# Feature Engineering"
   ]
  },
  {
   "cell_type": "code",
   "execution_count": null,
   "id": "85835462",
   "metadata": {},
   "outputs": [],
   "source": [
    "Converting Text into Numerical Form\n",
    "\n",
    "1. Bag of Word / Countvectorizer\n",
    "2. TF-IDF\n",
    "3. Word2Vec\n",
    "3. FastText\n",
    "5. Doc2Text"
   ]
  },
  {
   "cell_type": "code",
   "execution_count": 1,
   "id": "0d4b9bb5",
   "metadata": {},
   "outputs": [
    {
     "name": "stdout",
     "output_type": "stream",
     "text": [
      "Requirement already satisfied: nltk in c:\\python311\\lib\\site-packages (3.7)Note: you may need to restart the kernel to use updated packages.\n",
      "\n",
      "Requirement already satisfied: click in c:\\python311\\lib\\site-packages (from nltk) (8.1.3)\n",
      "Requirement already satisfied: joblib in c:\\python311\\lib\\site-packages (from nltk) (1.2.0)\n",
      "Requirement already satisfied: regex>=2021.8.3 in c:\\python311\\lib\\site-packages (from nltk) (2022.10.31)\n",
      "Requirement already satisfied: tqdm in c:\\python311\\lib\\site-packages (from nltk) (4.64.1)\n",
      "Requirement already satisfied: colorama in c:\\python311\\lib\\site-packages (from click->nltk) (0.4.6)\n"
     ]
    }
   ],
   "source": [
    "pip install nltk"
   ]
  },
  {
   "cell_type": "code",
   "execution_count": 2,
   "id": "e456e209",
   "metadata": {},
   "outputs": [],
   "source": [
    "import nltk"
   ]
  },
  {
   "cell_type": "code",
   "execution_count": 3,
   "id": "2ef7b9ef",
   "metadata": {},
   "outputs": [],
   "source": [
    "from nltk.corpus import stopwords"
   ]
  },
  {
   "cell_type": "code",
   "execution_count": 5,
   "id": "82e5b6f4",
   "metadata": {},
   "outputs": [
    {
     "name": "stdout",
     "output_type": "stream",
     "text": [
      "['i', 'me', 'my', 'myself', 'we', 'our', 'ours', 'ourselves', 'you', \"you're\", \"you've\", \"you'll\", \"you'd\", 'your', 'yours', 'yourself', 'yourselves', 'he', 'him', 'his', 'himself', 'she', \"she's\", 'her', 'hers', 'herself', 'it', \"it's\", 'its', 'itself', 'they', 'them', 'their', 'theirs', 'themselves', 'what', 'which', 'who', 'whom', 'this', 'that', \"that'll\", 'these', 'those', 'am', 'is', 'are', 'was', 'were', 'be', 'been', 'being', 'have', 'has', 'had', 'having', 'do', 'does', 'did', 'doing', 'a', 'an', 'the', 'and', 'but', 'if', 'or', 'because', 'as', 'until', 'while', 'of', 'at', 'by', 'for', 'with', 'about', 'against', 'between', 'into', 'through', 'during', 'before', 'after', 'above', 'below', 'to', 'from', 'up', 'down', 'in', 'out', 'on', 'off', 'over', 'under', 'again', 'further', 'then', 'once', 'here', 'there', 'when', 'where', 'why', 'how', 'all', 'any', 'both', 'each', 'few', 'more', 'most', 'other', 'some', 'such', 'no', 'nor', 'not', 'only', 'own', 'same', 'so', 'than', 'too', 'very', 's', 't', 'can', 'will', 'just', 'don', \"don't\", 'should', \"should've\", 'now', 'd', 'll', 'm', 'o', 're', 've', 'y', 'ain', 'aren', \"aren't\", 'couldn', \"couldn't\", 'didn', \"didn't\", 'doesn', \"doesn't\", 'hadn', \"hadn't\", 'hasn', \"hasn't\", 'haven', \"haven't\", 'isn', \"isn't\", 'ma', 'mightn', \"mightn't\", 'mustn', \"mustn't\", 'needn', \"needn't\", 'shan', \"shan't\", 'shouldn', \"shouldn't\", 'wasn', \"wasn't\", 'weren', \"weren't\", 'won', \"won't\", 'wouldn', \"wouldn't\"]\n"
     ]
    }
   ],
   "source": [
    "stopword_list = stopwords.words('english')\n",
    "print(stopword_list)"
   ]
  },
  {
   "cell_type": "markdown",
   "id": "20e90110",
   "metadata": {},
   "source": [
    "## 1. Bag of Words"
   ]
  },
  {
   "cell_type": "code",
   "execution_count": null,
   "id": "b2ee749c",
   "metadata": {},
   "outputs": [],
   "source": [
    "Called as 'CountVectorizer'\n",
    "Frquency of words\n",
    "word >> Term\n",
    "text >> Document"
   ]
  },
  {
   "cell_type": "code",
   "execution_count": null,
   "id": "9d9da710",
   "metadata": {},
   "outputs": [],
   "source": [
    "text1 >> \"Python is Programming Language and Python Language is Preferable for Data Science\"\n",
    "text2 >> \"python is used for Machine Learning\"\n",
    "text3 >> \"Python is used for Deep Learning\"\n",
    "\n",
    "# Text4 >> \"Python is Used for Natural Language Processing\"\n",
    "\n",
    "oov --> Out of Vocabulary --> unknown word get added in oov"
   ]
  },
  {
   "cell_type": "markdown",
   "id": "07c479ec",
   "metadata": {},
   "source": [
    "# Count Vectorizer"
   ]
  },
  {
   "cell_type": "code",
   "execution_count": null,
   "id": "09d844eb",
   "metadata": {},
   "outputs": [],
   "source": [
    "# Frequency of Words Matrix\n",
    "# Document Term Matrix\n",
    "\n",
    "            python programming  language  preferable  data  science used machine learning deep oov\n",
    "text1         2        1            2         1         1       1    0      0       0      0\n",
    "text2         1        0            0         0         0       0    1      1       1      0\n",
    "text3         1        0            0         0         0       0    1      0       1      1"
   ]
  },
  {
   "cell_type": "markdown",
   "id": "8688489d",
   "metadata": {},
   "source": [
    "# TF-IDF"
   ]
  },
  {
   "cell_type": "code",
   "execution_count": null,
   "id": "b9c8e4c6",
   "metadata": {},
   "outputs": [],
   "source": [
    "Term Frequency - Inverse Document Frequency\n",
    "\n",
    "TF-IDF = TF * IDF"
   ]
  },
  {
   "cell_type": "code",
   "execution_count": null,
   "id": "9b5e6465",
   "metadata": {},
   "outputs": [],
   "source": [
    "TF = (Freqency of term 't' in a documents)/(Total number of terms in a documents)"
   ]
  },
  {
   "cell_type": "code",
   "execution_count": null,
   "id": "d4133ae0",
   "metadata": {},
   "outputs": [],
   "source": [
    "text1 >> \"Python is Programming Language and Python Language is Preferable for Data Science\"  # 6\n",
    "text2 >> \"python is used for Machine Learning\"  # 4\n",
    "text3 >> \"Python is used for Deep Learning\"  # 4"
   ]
  },
  {
   "cell_type": "code",
   "execution_count": null,
   "id": "cf91187b",
   "metadata": {},
   "outputs": [],
   "source": [
    "            python programming  language  preferable  data  science  used machine learning  deep  oov\n",
    "text1        2/6       1/6         2/6       1/6       1/6     1/6    0      0       0       0     0\n",
    "text2        1/4       0            0         0         0       0    1/4    1/4     1/4      0     0\n",
    "text3        1/4       0            0         0         0       0    1/4      0     1/4     1/4    0"
   ]
  },
  {
   "cell_type": "code",
   "execution_count": null,
   "id": "b7dd6dd1",
   "metadata": {},
   "outputs": [],
   "source": [
    "# Inverse Document Frequency - IDF\n",
    "\n",
    "Document Frequency -->  No. of Documents containing term 't' / Total Number of Documents\n",
    "\n",
    "IDF = log[1/DF]"
   ]
  },
  {
   "cell_type": "code",
   "execution_count": null,
   "id": "0cb3341a",
   "metadata": {},
   "outputs": [],
   "source": [
    "# Inverse Document Frequency Matrix\n",
    "\n",
    "            python programming  language  preferable  data  science  used  machine learning   deep    oov\n",
    "              0       1.10        1.10       1.10     1.10   1.10    0.41    1.10    0.41     1.10     0"
   ]
  },
  {
   "cell_type": "code",
   "execution_count": 16,
   "id": "71402063",
   "metadata": {},
   "outputs": [
    {
     "data": {
      "text/plain": [
       "0.1025"
      ]
     },
     "execution_count": 16,
     "metadata": {},
     "output_type": "execute_result"
    }
   ],
   "source": [
    "1/4 * 0.41"
   ]
  },
  {
   "cell_type": "markdown",
   "id": "c55dfd43",
   "metadata": {},
   "source": [
    "### TF-IDF"
   ]
  },
  {
   "cell_type": "code",
   "execution_count": null,
   "id": "cc23819a",
   "metadata": {},
   "outputs": [],
   "source": [
    "TF * IDF"
   ]
  },
  {
   "cell_type": "code",
   "execution_count": null,
   "id": "f6773df2",
   "metadata": {},
   "outputs": [],
   "source": [
    "            python programming  language  preferable  data  science  used  machine learning  deep  oov\n",
    "text1         0       0.18        0.36       0.18     0.18     0.18    0      0       0       0     0\n",
    "text2         0        0            0         0         0       0    0.10    0.275   0.10     0     0\n",
    "text3         0        0            0         0         0       0    0.10      0     0.10    0.275  0"
   ]
  },
  {
   "cell_type": "code",
   "execution_count": null,
   "id": "305adfe9",
   "metadata": {},
   "outputs": [],
   "source": []
  },
  {
   "cell_type": "code",
   "execution_count": 7,
   "id": "c9d2316c",
   "metadata": {},
   "outputs": [
    {
     "data": {
      "text/plain": [
       "1.0"
      ]
     },
     "execution_count": 7,
     "metadata": {},
     "output_type": "execute_result"
    }
   ],
   "source": [
    "3/3"
   ]
  },
  {
   "cell_type": "code",
   "execution_count": 10,
   "id": "07f0d0fe",
   "metadata": {},
   "outputs": [
    {
     "data": {
      "text/plain": [
       "0.4054651081081644"
      ]
     },
     "execution_count": 10,
     "metadata": {},
     "output_type": "execute_result"
    }
   ],
   "source": [
    "import numpy as np\n",
    "np.log(3/2)"
   ]
  },
  {
   "cell_type": "code",
   "execution_count": null,
   "id": "29b4ae81",
   "metadata": {},
   "outputs": [],
   "source": []
  }
 ],
 "metadata": {
  "kernelspec": {
   "display_name": "Python 3 (ipykernel)",
   "language": "python",
   "name": "python3"
  },
  "language_info": {
   "codemirror_mode": {
    "name": "ipython",
    "version": 3
   },
   "file_extension": ".py",
   "mimetype": "text/x-python",
   "name": "python",
   "nbconvert_exporter": "python",
   "pygments_lexer": "ipython3",
   "version": "3.11.0"
  }
 },
 "nbformat": 4,
 "nbformat_minor": 5
}
